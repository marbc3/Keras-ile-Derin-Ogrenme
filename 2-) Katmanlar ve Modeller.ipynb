{
 "cells": [
  {
   "cell_type": "code",
   "execution_count": 8,
   "id": "d822a01b-4dc3-468b-88ef-74d16a29bf4b",
   "metadata": {},
   "outputs": [],
   "source": [
    "#Katmanlar\n",
    "from keras import layers"
   ]
  },
  {
   "cell_type": "code",
   "execution_count": 9,
   "id": "99042cab-67b0-4a29-be9c-fce66f13fc94",
   "metadata": {},
   "outputs": [],
   "source": [
    "layers = layers.Dense(32, input_shape=(784,))"
   ]
  },
  {
   "cell_type": "code",
   "execution_count": 10,
   "id": "9a3658ba-3c4f-4a47-9ad3-5c1a8caca0fa",
   "metadata": {},
   "outputs": [],
   "source": [
    "from keras import models"
   ]
  },
  {
   "cell_type": "code",
   "execution_count": 13,
   "id": "85ebe29f-96d2-4dfa-90d2-1a65e6382c19",
   "metadata": {},
   "outputs": [],
   "source": [
    "from tensorflow.keras import models\n",
    "from tensorflow.keras.layers import Dense\n",
    "\n",
    "model = models.Sequential()\n",
    "model.add(Dense(32, input_shape=(784,)))\n",
    "model.add(Dense(32,))"
   ]
  },
  {
   "cell_type": "code",
   "execution_count": 14,
   "id": "62085932-841f-4a9b-a79f-b0340b0140eb",
   "metadata": {},
   "outputs": [
    {
     "name": "stdout",
     "output_type": "stream",
     "text": [
      "Model: \"sequential_5\"\n",
      "_________________________________________________________________\n",
      " Layer (type)                Output Shape              Param #   \n",
      "=================================================================\n",
      " dense_2 (Dense)             (None, 32)                25120     \n",
      "                                                                 \n",
      " dense_3 (Dense)             (None, 32)                1056      \n",
      "                                                                 \n",
      "=================================================================\n",
      "Total params: 26,176\n",
      "Trainable params: 26,176\n",
      "Non-trainable params: 0\n",
      "_________________________________________________________________\n"
     ]
    }
   ],
   "source": [
    "model.summary()"
   ]
  },
  {
   "cell_type": "code",
   "execution_count": null,
   "id": "c0a4cb76-5cb2-40bf-82f0-9076f5956255",
   "metadata": {},
   "outputs": [],
   "source": []
  }
 ],
 "metadata": {
  "kernelspec": {
   "display_name": "Python 3 (ipykernel)",
   "language": "python",
   "name": "python3"
  },
  "language_info": {
   "codemirror_mode": {
    "name": "ipython",
    "version": 3
   },
   "file_extension": ".py",
   "mimetype": "text/x-python",
   "name": "python",
   "nbconvert_exporter": "python",
   "pygments_lexer": "ipython3",
   "version": "3.9.12"
  }
 },
 "nbformat": 4,
 "nbformat_minor": 5
}
